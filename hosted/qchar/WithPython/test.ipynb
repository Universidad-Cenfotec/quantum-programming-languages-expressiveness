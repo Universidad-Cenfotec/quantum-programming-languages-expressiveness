{
 "cells": [
  {
   "cell_type": "markdown",
   "metadata": {},
   "source": [
    "Segun geminis en Qrips la medicion es implicita"
   ]
  },
  {
   "cell_type": "code",
   "execution_count": 30,
   "metadata": {},
   "outputs": [],
   "source": [
    "import qsharp\n",
    "import azure.quantum"
   ]
  },
  {
   "cell_type": "code",
   "execution_count": 31,
   "metadata": {},
   "outputs": [
    {
     "data": {
      "application/x.qsharp-config": "{\"targetProfile\":\"unrestricted\",\"languageFeatures\":null,\"manifest\":\"{\\n  \\\"name\\\": \\\"QuantumProject\\\",\\n  \\\"version\\\": \\\"1.0.0\\\",\\n  \\\"operations\\\": [\\n      {\\n          \\\"name\\\": \\\"RandomNBits\\\",\\n          \\\"namespace\\\": \\\"Source\\\"\\n      }\\n  ],\\n  \\\"src\\\": \\\"src\\\"\\n}\\n\",\"projectRoot\":\"file:///workspace/hosted/qchar/WithPython\"}",
      "text/plain": [
       "Q# initialized with configuration: {'targetProfile': 'unrestricted', 'languageFeatures': None, 'manifest': '{\\n  \"name\": \"QuantumProject\",\\n  \"version\": \"1.0.0\",\\n  \"operations\": [\\n      {\\n          \"name\": \"RandomNBits\",\\n          \"namespace\": \"Source\"\\n      }\\n  ],\\n  \"src\": \"src\"\\n}\\n', 'projectRoot': 'file:///workspace/hosted/qchar/WithPython'}"
      ]
     },
     "execution_count": 31,
     "metadata": {},
     "output_type": "execute_result"
    }
   ],
   "source": [
    "qsharp.init(project_root = '.')"
   ]
  },
  {
   "cell_type": "code",
   "execution_count": 32,
   "metadata": {},
   "outputs": [
    {
     "name": "stdout",
     "output_type": "stream",
     "text": [
      "[One, Zero, Zero, Zero]\n",
      "[Zero, One, Zero, One]\n",
      "[Zero, Zero, Zero, Zero]\n",
      "[One, Zero, One, Zero]\n",
      "[Zero, Zero, Zero, Zero]\n",
      "[One, One, One, Zero]\n",
      "[Zero, Zero, One, Zero]\n",
      "[One, One, Zero, One]\n",
      "[Zero, Zero, One, One]\n",
      "[One, One, Zero, Zero]\n"
     ]
    }
   ],
   "source": [
    "result = qsharp.run(\"Source.RandomNBits(4)\", shots=10)\n",
    "for x in result:\n",
    "    print(x)\n"
   ]
  }
 ],
 "metadata": {
  "kernelspec": {
   "display_name": "Python 3",
   "language": "python",
   "name": "python3"
  },
  "language_info": {
   "codemirror_mode": {
    "name": "ipython",
    "version": 3
   },
   "file_extension": ".py",
   "mimetype": "text/x-python",
   "name": "python",
   "nbconvert_exporter": "python",
   "pygments_lexer": "ipython3",
   "version": "3.12.8"
  }
 },
 "nbformat": 4,
 "nbformat_minor": 4
}
