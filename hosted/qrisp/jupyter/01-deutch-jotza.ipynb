{
 "cells": [
  {
   "cell_type": "code",
   "execution_count": null,
   "metadata": {},
   "outputs": [
    {
     "name": "stdout",
     "output_type": "stream",
     "text": [
      "QuantumCircuit:\n",
      "---------------\n",
      "         ┌───┐          ┌───┐     ┌─┐           \n",
      "input.0: ┤ H ├───────■──┤ H ├─────┤M├───────────\n",
      "         ├───┤       │  └───┘┌───┐└╥┘     ┌─┐   \n",
      "input.1: ┤ H ├───────┼────■──┤ H ├─╫──────┤M├───\n",
      "         ├───┤       │    │  └───┘ ║ ┌───┐└╥┘┌─┐\n",
      "input.2: ┤ H ├───────┼────┼────■───╫─┤ H ├─╫─┤M├\n",
      "         ├───┤┌───┐┌─┴─┐┌─┴─┐┌─┴─┐ ║ └───┘ ║ └╥┘\n",
      "  aux.0: ┤ X ├┤ H ├┤ X ├┤ X ├┤ X ├─╫───────╫──╫─\n",
      "         └───┘└───┘└───┘└───┘└───┘ ║       ║  ║ \n",
      "   cb_0: ══════════════════════════╩═══════╬══╬═\n",
      "                                           ║  ║ \n",
      "   cb_1: ══════════════════════════════════╩══╬═\n",
      "                                              ║ \n",
      "   cb_2: ═════════════════════════════════════╩═\n",
      "                                                \n",
      "Live QuantumVariables:\n",
      "----------------------\n",
      "QuantumVariable input\n",
      "QuantumVariable aux\n"
     ]
    }
   ],
   "source": [
    "import qrisp QuantumVariable, h, x, cx, measure, auto_uncompute\n",
    "\n",
    "\n",
    "def deutsch_jozsa(n, oracle):\n",
    "    \"\"\" Deutsch-Jozsa algorithm for n-qubits \"\"\"\n",
    "    input_qubits = QuantumVariable(n, name=\"input\")\n",
    "    aux_qubit = QuantumVariable(1, name=\"aux\")\n",
    "    x(aux_qubit)\n",
    "    h(input_qubits)\n",
    "    h(aux_qubit)\n",
    "    oracle(input_qubits, aux_qubit)\n",
    "    h(input_qubits)\n",
    "    measure(input_qubits)\n",
    "    return input_qubits.qs\n",
    "\n",
    "def constant_oracle(input_qubits, aux_qubit):\n",
    "    \"\"\" Constant oracle: does nothing \"\"\"\n",
    "    pass\n",
    "\n",
    "def balanced_oracle(input_qubits, aux_qubit):\n",
    "    \"\"\" Balanced oracle: flips auxiliary qubit based on input \"\"\"\n",
    "    for i in range(len(input_qubits)):\n",
    "        cx(input_qubits[i], aux_qubit)\n",
    "\n",
    "n = 3\n",
    "oracles = {\"Constant\": constant_oracle, \"Balanced\": balanced_oracle}\n",
    "results = {}\n",
    "\n",
    "for name, oracle in oracles.items():\n",
    "    qc = deutsch_jozsa(n, oracle)\n",
    "\n",
    "print(qc)"
   ]
  },
  {
   "cell_type": "code",
   "execution_count": null,
   "metadata": {},
   "outputs": [],
   "source": []
  },
  {
   "cell_type": "code",
   "execution_count": null,
   "metadata": {},
   "outputs": [],
   "source": []
  }
 ],
 "metadata": {
  "kernelspec": {
   "display_name": "Python 3",
   "language": "python",
   "name": "python3"
  },
  "language_info": {
   "codemirror_mode": {
    "name": "ipython",
    "version": 3
   },
   "file_extension": ".py",
   "mimetype": "text/x-python",
   "name": "python",
   "nbconvert_exporter": "python",
   "pygments_lexer": "ipython3",
   "version": "3.12.8"
  }
 },
 "nbformat": 4,
 "nbformat_minor": 4
}
