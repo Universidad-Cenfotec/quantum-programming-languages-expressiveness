{
 "cells": [
  {
   "cell_type": "markdown",
   "metadata": {},
   "source": [
    "Cambios y consideraciones:\n",
    "Sin label: Eliminamos el argumento label en to_gate(), ya que qrisp no lo admite.\n",
    "Visualización: Usamos print(qc) para mostrar el circuito de manera textual, dado que qc.draw(\"mpl\") no es compatible con qrisp.\n",
    "Difusión y oráculo: Se implementan las mismas operaciones de Grover usando qrisp."
   ]
  },
  {
   "cell_type": "code",
   "execution_count": null,
   "metadata": {},
   "outputs": [
    {
     "name": "stdout",
     "output_type": "stream",
     "text": [
      "       ┌───┐┌───────────────┐┌───────────────┐┌───────────────┐»\n",
      "qb_58: ┤ H ├┤0              ├┤0              ├┤0              ├»\n",
      "       ├───┤│               ││               ││               │»\n",
      "qb_59: ┤ H ├┤1 circuit14020 ├┤1 circuit14020 ├┤1 circuit14020 ├»\n",
      "       ├───┤│               ││               ││               │»\n",
      "qb_60: ┤ H ├┤2              ├┤2              ├┤2              ├»\n",
      "       └───┘└───────────────┘└───────────────┘└───────────────┘»\n",
      " cb_2: ════════════════════════════════════════════════════════»\n",
      "                                                               »\n",
      " cb_3: ════════════════════════════════════════════════════════»\n",
      "                                                               »\n",
      " cb_4: ════════════════════════════════════════════════════════»\n",
      "                                                               »\n",
      "«       ┌───────────────┐┌─┐      \n",
      "«qb_58: ┤0              ├┤M├──────\n",
      "«       │               │└╥┘┌─┐   \n",
      "«qb_59: ┤1 circuit14020 ├─╫─┤M├───\n",
      "«       │               │ ║ └╥┘┌─┐\n",
      "«qb_60: ┤2              ├─╫──╫─┤M├\n",
      "«       └───────────────┘ ║  ║ └╥┘\n",
      "« cb_2: ══════════════════╩══╬══╬═\n",
      "«                            ║  ║ \n",
      "« cb_3: ═════════════════════╩══╬═\n",
      "«                               ║ \n",
      "« cb_4: ════════════════════════╩═\n",
      "«                                 \n"
     ]
    }
   ],
   "source": [
    "import qrisp\n",
    "\n",
    "def grover_oracle_qrisp(n, marked_state):\n",
    "    \n",
    "    oracle = qrisp.QuantumCircuit(n)\n",
    "    for i, bit in enumerate(reversed(marked_state)):\n",
    "        if bit == '0':\n",
    "            oracle.x(i)\n",
    "\n",
    "    oracle.h(n - 1)\n",
    "    oracle.mcx(list(range(n - 1)), n - 1)  # Control multi-qubit\n",
    "    oracle.h(n - 1)\n",
    "\n",
    "    for i, bit in enumerate(reversed(marked_state)):\n",
    "        if bit == '0':\n",
    "            oracle.x(i)\n",
    "    return oracle.to_gate()\n",
    "\n",
    "def grover_diffusion_qrisp(n):\n",
    "    \n",
    "    diffusion = qrisp.QuantumCircuit(n)\n",
    "\n",
    "    diffusion.h(range(n))\n",
    "    diffusion.x(range(n))\n",
    "\n",
    "    diffusion.h(n - 1)\n",
    "    diffusion.mcx(list(range(n - 1)), n - 1)\n",
    "    diffusion.h(n - 1)\n",
    "\n",
    "    diffusion.x(range(n))\n",
    "    diffusion.h(range(n))\n",
    "\n",
    "    return diffusion.to_gate()\n",
    "\n",
    "def grover_algorithm_qrisp(n, marked_state, iterations=1):\n",
    "  \n",
    "    qc = qrisp.QuantumCircuit(n, n)\n",
    "    qc.h(range(n))\n",
    "    oracle = grover_oracle_qrisp(n, marked_state)\n",
    "    diffusion = grover_diffusion_qrisp(n)\n",
    "\n",
    "    # Iterar Grover\n",
    "    for _ in range(iterations):\n",
    "        qc.append(oracle, range(n))\n",
    "        qc.append(diffusion, range(n))\n",
    "    qc.measure(range(n), range(n))\n",
    "    return qc\n",
    "\n",
    "n = 3\n",
    "marked_state = \"101\"\n",
    "\n",
    "# Create algorithm\n",
    "iterations = int(np.pi / 4 * np.sqrt(2**n))  # Número óptimo de iteraciones\n",
    "qc = grover_algorithm_qrisp(n, marked_state, iterations)\n",
    "\n",
    "# Visualizar el circuito\n",
    "print(qc)\n"
   ]
  }
 ],
 "metadata": {
  "kernelspec": {
   "display_name": "Python 3 (ipykernel)",
   "language": "python",
   "name": "python3"
  },
  "language_info": {
   "codemirror_mode": {
    "name": "ipython",
    "version": 3
   },
   "file_extension": ".py",
   "mimetype": "text/x-python",
   "name": "python",
   "nbconvert_exporter": "python",
   "pygments_lexer": "ipython3",
   "version": "3.12.8"
  }
 },
 "nbformat": 4,
 "nbformat_minor": 4
}
