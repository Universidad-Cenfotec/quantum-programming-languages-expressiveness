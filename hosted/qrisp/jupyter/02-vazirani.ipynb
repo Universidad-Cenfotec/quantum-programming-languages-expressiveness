{
 "cells": [
  {
   "cell_type": "markdown",
   "metadata": {},
   "source": [
    "Segun geminis en Qrips la medicion es implicita"
   ]
  },
  {
   "cell_type": "code",
   "execution_count": null,
   "metadata": {},
   "outputs": [
    {
     "name": "stdout",
     "output_type": "stream",
     "text": [
      "       ┌───┐                     ░ ┌───┐ ░ ┌─┐         \n",
      "qb_58: ┤ H ├───────■─────────────░─┤ H ├─░─┤M├─────────\n",
      "       ├───┤       │             ░ ├───┤ ░ └╥┘┌─┐      \n",
      "qb_59: ┤ H ├───────┼─────────────░─┤ H ├─░──╫─┤M├──────\n",
      "       ├───┤       │             ░ ├───┤ ░  ║ └╥┘┌─┐   \n",
      "qb_60: ┤ H ├───────┼────■────────░─┤ H ├─░──╫──╫─┤M├───\n",
      "       ├───┤       │    │        ░ ├───┤ ░  ║  ║ └╥┘┌─┐\n",
      "qb_61: ┤ H ├───────┼────┼────■───░─┤ H ├─░──╫──╫──╫─┤M├\n",
      "       ├───┤┌───┐┌─┴─┐┌─┴─┐┌─┴─┐ ░ └───┘ ░  ║  ║  ║ └╥┘\n",
      "qb_62: ┤ X ├┤ H ├┤ X ├┤ X ├┤ X ├─░───────░──╫──╫──╫──╫─\n",
      "       └───┘└───┘└───┘└───┘└───┘ ░       ░  ║  ║  ║  ║ \n",
      " cb_2: ═════════════════════════════════════╩══╬══╬══╬═\n",
      "                                               ║  ║  ║ \n",
      " cb_3: ════════════════════════════════════════╩══╬══╬═\n",
      "                                                  ║  ║ \n",
      " cb_4: ═══════════════════════════════════════════╩══╬═\n",
      "                                                     ║ \n",
      " cb_5: ══════════════════════════════════════════════╩═\n",
      "                                                       \n"
     ]
    }
   ],
   "source": [
    "import qrisp\n",
    "\n",
    "def bernstein_vazirani_qrisp(n, s):\n",
    "    \"\"\" Bernstein-Vazirani en QRISP \"\"\"\n",
    "    qc = qrisp.QuantumCircuit(n + 1, n)\n",
    "    qc.x(n)\n",
    "    qc.h(range(n + 1))\n",
    "    for i, bit in enumerate(reversed(s)):\n",
    "        if bit == \"1\":\n",
    "            qc.cx(i, n)\n",
    "    \n",
    "    qc.barrier()\n",
    "    qc.h(range(n))\n",
    "    qc.barrier()\n",
    "    qc.measure(range(n), range(n))\n",
    "    return qc\n",
    "\n",
    "n = 4 \n",
    "s = \"1101\" \n",
    "qc = bernstein_vazirani_qrisp(n, s)\n",
    "\n",
    "# Circuit visualization\n",
    "print(qc)\n"
   ]
  },
  {
   "cell_type": "code",
   "execution_count": null,
   "metadata": {},
   "outputs": [],
   "source": []
  }
 ],
 "metadata": {
  "kernelspec": {
   "display_name": "Python 3 (ipykernel)",
   "language": "python",
   "name": "python3"
  },
  "language_info": {
   "codemirror_mode": {
    "name": "ipython",
    "version": 3
   },
   "file_extension": ".py",
   "mimetype": "text/x-python",
   "name": "python",
   "nbconvert_exporter": "python",
   "pygments_lexer": "ipython3",
   "version": "3.12.8"
  }
 },
 "nbformat": 4,
 "nbformat_minor": 4
}
