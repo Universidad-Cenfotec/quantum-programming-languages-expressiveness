{
 "cells": [
  {
   "cell_type": "code",
   "execution_count": 4,
   "metadata": {},
   "outputs": [
    {
     "name": "stdout",
     "output_type": "stream",
     "text": [
      "       ┌───┐┌───────────────┐┌───┐┌─┐      \n",
      "qb_82: ┤ H ├┤0              ├┤ H ├┤M├──────\n",
      "       ├───┤│               │├───┤└╥┘┌─┐   \n",
      "qb_83: ┤ H ├┤1              ├┤ H ├─╫─┤M├───\n",
      "       ├───┤│               │├───┤ ║ └╥┘┌─┐\n",
      "qb_84: ┤ H ├┤2              ├┤ H ├─╫──╫─┤M├\n",
      "       └───┘│  circuit13990 │└───┘ ║  ║ └╥┘\n",
      "qb_85: ─────┤3              ├──────╫──╫──╫─\n",
      "            │               │      ║  ║  ║ \n",
      "qb_86: ─────┤4              ├──────╫──╫──╫─\n",
      "            │               │      ║  ║  ║ \n",
      "qb_87: ─────┤5              ├──────╫──╫──╫─\n",
      "            └───────────────┘      ║  ║  ║ \n",
      " cb_8: ════════════════════════════╩══╬══╬═\n",
      "                                      ║  ║ \n",
      " cb_9: ═══════════════════════════════╩══╬═\n",
      "                                         ║ \n",
      "cb_10: ══════════════════════════════════╩═\n",
      "                                           \n"
     ]
    }
   ],
   "source": [
    "import qrisp\n",
    "\n",
    "def simon_oracle_qrisp(n, s):\n",
    "    \"\"\" Simon Oracle para el algoritmo de Simon en QRISP \"\"\"\n",
    "    qc = qrisp.QuantumCircuit(2 * n)\n",
    "    for i, bit in enumerate(reversed(s)):\n",
    "        if bit == '1':\n",
    "            qc.cx(i, n + i)\n",
    "    return qc.to_gate()  # Sin el argumento 'label'\n",
    "\n",
    "def simon_algorithm_qrisp(n, s):\n",
    "    \"\"\" Implementación del algoritmo de Simon en QRISP \"\"\"\n",
    "    qc = qrisp.QuantumCircuit(2 * n, n)\n",
    "    \n",
    "    # Aplicar Hadamard en los primeros n qubits\n",
    "    qc.h(range(n))\n",
    "    \n",
    "    # Aplicar el Simon Oracle\n",
    "    oracle = simon_oracle_qrisp(n, s)\n",
    "    qc.append(oracle, range(2 * n))\n",
    "    \n",
    "    # Aplicar Hadamard de nuevo en los primeros n qubits\n",
    "    qc.h(range(n))\n",
    "    \n",
    "    # Medir los primeros n qubits\n",
    "    qc.measure(range(n), range(n))\n",
    "    \n",
    "    return qc\n",
    "\n",
    "# Parámetros\n",
    "n = 3\n",
    "s = \"101\"\n",
    "\n",
    "# Crear el circuito para el algoritmo de Simon\n",
    "qc = simon_algorithm_qrisp(n, s)\n",
    "\n",
    "# Visualiza el circuito\n",
    "print(qc)\n"
   ]
  }
 ],
 "metadata": {
  "kernelspec": {
   "display_name": "Python 3 (ipykernel)",
   "language": "python",
   "name": "python3"
  },
  "language_info": {
   "codemirror_mode": {
    "name": "ipython",
    "version": 3
   },
   "file_extension": ".py",
   "mimetype": "text/x-python",
   "name": "python",
   "nbconvert_exporter": "python",
   "pygments_lexer": "ipython3",
   "version": "3.12.8"
  }
 },
 "nbformat": 4,
 "nbformat_minor": 4
}
