{
 "cells": [
  {
   "cell_type": "markdown",
   "metadata": {},
   "source": [
    " Diferencias con Qiskit\n",
    "✅ cirq.Circuit() en lugar de QuantumCircuit\n",
    "✅ Mediciones con cirq.measure en lugar de qc.measure(range(n), range(n))\n",
    "✅ Simulación con cirq.Simulator() en vez de Aer.get_backend('aer_simulator')\n",
    "✅ Conversión de mediciones a ecuaciones binarias usando null_space de SciPy"
   ]
  },
  {
   "cell_type": "code",
   "execution_count": 7,
   "metadata": {},
   "outputs": [
    {
     "name": "stdout",
     "output_type": "stream",
     "text": [
      "\n",
      "Circuito de Simon en Cirq:\n",
      "          ┌──┐\n",
      "0: ───H────@─────H───M('result')───\n",
      "           │         │\n",
      "1: ───H────┼H────────M─────────────\n",
      "           │         │\n",
      "2: ───H────┼@────H───M─────────────\n",
      "           ││\n",
      "3: ────────X┼──────────────────────\n",
      "            │\n",
      "5: ─────────X──────────────────────\n",
      "          └──┘\n"
     ]
    }
   ],
   "source": [
    "import cirq\n",
    "import numpy as np\n",
    "import matplotlib.pyplot as plt\n",
    "from scipy.linalg import null_space\n",
    "\n",
    "def simon_oracle_cirq(n, s):\n",
    "    \"\"\" Crea el oráculo de Simon en Cirq \"\"\"\n",
    "    qubits = [cirq.LineQubit(i) for i in range(2 * n)]\n",
    "    oracle = []\n",
    "\n",
    "    for i, bit in enumerate(reversed(s)):\n",
    "        if bit == '1':\n",
    "            oracle.append(cirq.CX(qubits[i], qubits[n + i]))\n",
    "\n",
    "    return oracle, qubits\n",
    "\n",
    "def simon_algorithm_cirq(n, s):\n",
    "    \"\"\" Implementación del algoritmo de Simon en Cirq \"\"\"\n",
    "    oracle, qubits = simon_oracle_cirq(n, s)\n",
    "    circuit = cirq.Circuit()\n",
    "\n",
    "   \n",
    "    circuit.append(cirq.H.on_each(*qubits[:n]))\n",
    "\n",
    "  \n",
    "    circuit.append(oracle)\n",
    "\n",
    "   \n",
    "    circuit.append(cirq.H.on_each(*qubits[:n]))\n",
    "\n",
    "   \n",
    "    circuit.append(cirq.measure(*qubits[:n], key=\"result\"))\n",
    "\n",
    "    return circuit, qubits[:n]\n",
    "\n",
    "def solve_simon_cirq(n, s, shots=1024):\n",
    "    \"\"\" Ejecuta el algoritmo de Simon en Cirq y resuelve s \"\"\"\n",
    "    circuit, measure_qubits = simon_algorithm_cirq(n, s)\n",
    "\n",
    "\n",
    "    simulator = cirq.Simulator()\n",
    "    result = simulator.run(circuit, repetitions=shots)\n",
    "    measurements = result.measurements[\"result\"]\n",
    "\n",
    " \n",
    "    equations = np.array(measurements) % 2\n",
    "    s_solution = null_space(equations).T[0] % 2\n",
    "    s_str = ''.join(str(int(bit)) for bit in s_solution)\n",
    "\n",
    "    return measurements, s_str, circuit\n",
    "\n",
    "# ---- Parámetros ----\n",
    "n = 3\n",
    "s = \"101\"\n",
    "\n",
    "\n",
    "counts, found_s, circuit = solve_simon_cirq(n, s)\n",
    "\n",
    "# Mostrar resultados\n",
    "print(\"\\nCircuito de Simon en Cirq:\")\n",
    "print(circuit)\n"
   ]
  },
  {
   "cell_type": "code",
   "execution_count": 8,
   "metadata": {},
   "outputs": [
    {
     "name": "stdout",
     "output_type": "stream",
     "text": [
      "\n",
      "Resultados de las mediciones:\n",
      "{'000': 261, '001': 258, '100': 254, '101': 251}\n",
      "\n",
      "El valor secreto s encontrado es: 010\n"
     ]
    },
    {
     "data": {
      "image/png": "[encoded data removed]",
      "text/plain": [
       "<Figure size 640x480 with 1 Axes>"
      ]
     },
     "metadata": {},
     "output_type": "display_data"
    }
   ],
   "source": [
    "print(\"\\nResultados de las mediciones:\")\n",
    "unique, counts = np.unique(counts, axis=0, return_counts=True)\n",
    "counts_dict = {\"\".join(map(str, row)): count for row, count in zip(unique, counts)}\n",
    "print(counts_dict)\n",
    "\n",
    "print(f\"\\nEl valor secreto s encontrado es: {found_s}\")\n",
    "\n",
    "\n",
    "plt.bar(counts_dict.keys(), counts_dict.values(), color=\"blue\")\n",
    "plt.xlabel(\"Medidas\")\n",
    "plt.ylabel(\"Frecuencia\")\n",
    "plt.title(\"Resultados del Algoritmo de Simon en Cirq\")\n",
    "plt.xticks(rotation=45)\n",
    "plt.show()"
   ]
  }
 ],
 "metadata": {
  "kernelspec": {
   "display_name": "Python 3 (ipykernel)",
   "language": "python",
   "name": "python3"
  },
  "language_info": {
   "codemirror_mode": {
    "name": "ipython",
    "version": 3
   },
   "file_extension": ".py",
   "mimetype": "text/x-python",
   "name": "python",
   "nbconvert_exporter": "python",
   "pygments_lexer": "ipython3",
   "version": "3.11.7"
  }
 },
 "nbformat": 4,
 "nbformat_minor": 4
}
