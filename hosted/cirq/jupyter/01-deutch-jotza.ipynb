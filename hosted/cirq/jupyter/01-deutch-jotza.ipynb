{
 "cells": [
  {
   "cell_type": "code",
   "execution_count": null,
   "metadata": {},
   "outputs": [
    {
     "name": "stdout",
     "output_type": "stream",
     "text": [
      "Constant Oracle Results: {0: 1024}\n",
      "Balanced Oracle Results: {7: 1024}\n",
      "Deutsch-Jozsa Circuit:\n",
      "0: ───H───────@───H───────────M('result')───\n",
      "              │               │\n",
      "1: ───H───────┼───@───H───────M─────────────\n",
      "              │   │           │\n",
      "2: ───H───────┼───┼───@───H───M─────────────\n",
      "              │   │   │\n",
      "3: ───X───H───X───X───X─────────────────────\n"
     ]
    }
   ],
   "source": [
    "import cirq\n",
    "\n",
    "def deutsch_jozsa(n, oracle):\n",
    "    \"\"\" Deutsch-Jozsa algorithm for n-qubits in Cirq \"\"\"\n",
    "    qubits = [cirq.LineQubit(i) for i in range(n)]  \n",
    "    aux_qubit = cirq.LineQubit(n)    \n",
    "    circuit = cirq.Circuit()\n",
    "\n",
    "    circuit.append(cirq.X(aux_qubit))\n",
    "    circuit.append(cirq.H(q) for q in qubits + [aux_qubit])\n",
    "    circuit.append(oracle)\n",
    "    circuit.append(cirq.H(q) for q in qubits)\n",
    "    circuit.append(cirq.measure(*qubits, key=\"result\"))\n",
    "    return circuit\n",
    "\n",
    "# Oracle for a constant function (does nothing)\n",
    "def constant_oracle(n):\n",
    "    \"\"\" Constant oracle: does nothing \"\"\"\n",
    "    return cirq.Circuit()  # No operation\n",
    "\n",
    "# Oracle for a balanced function (XOR of inputs)\n",
    "def balanced_oracle(n):\n",
    "    \"\"\" Balanced oracle: flips auxiliary qubit based on input \"\"\"\n",
    "    qubits = [cirq.LineQubit(i) for i in range(n)]\n",
    "    aux_qubit = cirq.LineQubit(n)\n",
    "    oracle = cirq.Circuit()\n",
    "    for q in qubits:\n",
    "        oracle.append(cirq.CNOT(q, aux_qubit))    \n",
    "    return oracle\n",
    "\n",
    "# Set the number of input qubits\n",
    "n = 3  \n",
    "\n",
    "# Define oracles\n",
    "oracles = {\"Constant\": constant_oracle(n), \"Balanced\": balanced_oracle(n)}\n",
    "results = {}\n",
    "\n",
    "# Use Cirq's simulator\n",
    "simulator = cirq.Simulator()\n",
    "\n",
    "for name, oracle in oracles.items():\n",
    "    circuit = deutsch_jozsa(n, oracle)\n",
    "    result = simulator.run(circuit, repetitions=1024)\n",
    "    counts = dict(result.histogram(key=\"result\"))\n",
    "    results[name] = counts\n",
    "\n",
    "    print(f\"{name} Oracle Results:\", counts)\n",
    "\n",
    "# Draw the circuit\n",
    "print(\"Deutsch-Jozsa Circuit:\")\n",
    "print(deutsch_jozsa(n, balanced_oracle(n)))\n"
   ]
  }
 ],
 "metadata": {
  "kernelspec": {
   "display_name": "Python 3",
   "language": "python",
   "name": "python3"
  },
  "language_info": {
   "codemirror_mode": {
    "name": "ipython",
    "version": 3
   },
   "file_extension": ".py",
   "mimetype": "text/x-python",
   "name": "python",
   "nbconvert_exporter": "python",
   "pygments_lexer": "ipython3",
   "version": "3.12.8"
  }
 },
 "nbformat": 4,
 "nbformat_minor": 4
}
