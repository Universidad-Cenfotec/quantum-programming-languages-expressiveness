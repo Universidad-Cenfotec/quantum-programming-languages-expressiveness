{
 "cells": [
  {
   "cell_type": "markdown",
   "metadata": {},
   "source": [
    "En Cirq, la implementación de las compuertas de Hadamard y las operaciones Toffoli es directa con métodos como cirq.H() y cirq.TOFFOLI().\n",
    "En Qiskit, las operaciones de Hadamard se logran con qc.h(), y la operación Toffoli se realiza con mcx (controlada por múltiples qubits)."
   ]
  },
  {
   "cell_type": "code",
   "execution_count": 11,
   "metadata": {},
   "outputs": [
    {
     "name": "stdout",
     "output_type": "stream",
     "text": [
      "\n",
      "Resultados de las mediciones:\n",
      "{'000': 7, '001': 10, '010': 12, '011': 9, '100': 11, '101': 950, '110': 14, '111': 11}\n",
      "\n",
      "Circuito:\n",
      "0: ───H───────@───────H───X───────@───X───H───────────@───────H───X───────@───X───H───────M('result')───\n",
      "              │                   │                   │                   │               │\n",
      "1: ───H───X───@───X───H───X───────@───X───H───────X───@───X───H───X───────@───X───H───────M─────────────\n",
      "              │                   │                   │                   │               │\n",
      "2: ───H───H───X───H───H───X───H───X───H───X───H───H───X───H───H───X───H───X───H───X───H───M─────────────\n"
     ]
    },
    {
     "data": {
      "image/png": "[encoded data removed]",
      "text/plain": [
       "<Figure size 640x480 with 1 Axes>"
      ]
     },
     "metadata": {},
     "output_type": "display_data"
    }
   ],
   "source": [
    "import cirq\n",
    "import numpy as np\n",
    "import matplotlib.pyplot as plt\n",
    "\n",
    "def grover_oracle(qubits, marked_state):\n",
    "    \"\"\"Crea el oráculo de Grover que invierte la fase del estado marcado\"\"\"\n",
    "    oracle = cirq.Circuit()\n",
    "    \n",
    "    for i, bit in enumerate(marked_state):\n",
    "        if bit == '0':\n",
    "            oracle.append(cirq.X(qubits[i]))\n",
    "    \n",
    "    oracle.append(cirq.H(qubits[-1]))\n",
    "    oracle.append(cirq.TOFFOLI(qubits[0], qubits[1], qubits[2]))  # Para n=3\n",
    "    oracle.append(cirq.H(qubits[-1]))\n",
    "    \n",
    "    for i, bit in enumerate(marked_state):\n",
    "        if bit == '0':\n",
    "            oracle.append(cirq.X(qubits[i]))\n",
    "    \n",
    "    return oracle\n",
    "\n",
    "def grover_diffusion(qubits):\n",
    "    \"\"\"Implementa la difusión de Grover para amplificar el estado marcado\"\"\"\n",
    "    diffusion = cirq.Circuit()\n",
    "    diffusion.append(cirq.H.on_each(*qubits))\n",
    "    diffusion.append(cirq.X.on_each(*qubits))\n",
    "    \n",
    "    diffusion.append(cirq.H(qubits[-1]))\n",
    "    diffusion.append(cirq.TOFFOLI(qubits[0], qubits[1], qubits[2]))  # Para n=3\n",
    "    diffusion.append(cirq.H(qubits[-1]))\n",
    "    \n",
    "    diffusion.append(cirq.X.on_each(*qubits))\n",
    "    diffusion.append(cirq.H.on_each(*qubits))\n",
    "    \n",
    "    return diffusion\n",
    "\n",
    "def grover_algorithm(n, marked_state, iterations=1):\n",
    "    \"\"\"Implementa el algoritmo de Grover\"\"\"\n",
    "    qubits = cirq.LineQubit.range(n)\n",
    "    circuit = cirq.Circuit()\n",
    "    \n",
    "    circuit.append(cirq.H.on_each(*qubits))\n",
    "    \n",
    "    oracle = grover_oracle(qubits, marked_state)\n",
    "    diffusion = grover_diffusion(qubits)\n",
    "    \n",
    "    for _ in range(iterations):\n",
    "        circuit.append(oracle)\n",
    "        circuit.append(diffusion)\n",
    "    \n",
    "    circuit.append(cirq.measure(*qubits, key='result'))\n",
    "    \n",
    "    return circuit, qubits\n",
    "\n",
    "def run_grover(n, marked_state, shots=1024):\n",
    "    \"\"\"Ejecuta el algoritmo de Grover y muestra los resultados\"\"\"\n",
    "    iterations = int(np.pi / 4 * np.sqrt(2**n))\n",
    "    circuit, qubits = grover_algorithm(n, marked_state, iterations)\n",
    "    \n",
    "    simulator = cirq.Simulator()\n",
    "    result = simulator.run(circuit, repetitions=shots)\n",
    "    counts = result.histogram(key='result')\n",
    "    \n",
    "    # Convertir las claves a binario y ordenarlas\n",
    "    formatted_counts = {format(key, f'0{n}b'): value for key, value in sorted(counts.items())}\n",
    "    \n",
    "    return formatted_counts, circuit\n",
    "\n",
    "def plot_histogram(counts):\n",
    "    \"\"\"Grafica un histograma de los resultados\"\"\"\n",
    "    sorted_keys = sorted(counts.keys())\n",
    "    sorted_values = [counts[key] for key in sorted_keys]\n",
    "    \n",
    "    plt.bar(sorted_keys, sorted_values)\n",
    "    plt.xlabel(\"Estados (binario)\")\n",
    "    plt.ylabel(\"Frecuencia\")\n",
    "    plt.title(\"Resultados de Grover\")\n",
    "    plt.xticks(rotation=90)\n",
    "    plt.show()\n",
    "\n",
    "n = 3\n",
    "marked_state = \"101\"\n",
    "\n",
    "counts, circuit = run_grover(n, marked_state)\n",
    "print(\"\\nResultados de las mediciones:\")\n",
    "print(counts)\n",
    "print(\"\\nCircuito:\")\n",
    "print(circuit)\n",
    "\n",
    "plot_histogram(counts)"
   ]
  }
 ],
 "metadata": {
  "kernelspec": {
   "display_name": "Python 3",
   "language": "python",
   "name": "python3"
  },
  "language_info": {
   "codemirror_mode": {
    "name": "ipython",
    "version": 3
   },
   "file_extension": ".py",
   "mimetype": "text/x-python",
   "name": "python",
   "nbconvert_exporter": "python",
   "pygments_lexer": "ipython3",
   "version": "3.12.8"
  }
 },
 "nbformat": 4,
 "nbformat_minor": 4
}
